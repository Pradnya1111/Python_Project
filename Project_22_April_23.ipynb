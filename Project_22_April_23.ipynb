{
 "cells": [
  {
   "cell_type": "code",
   "execution_count": 1,
   "id": "8965237a",
   "metadata": {},
   "outputs": [
    {
     "name": "stdout",
     "output_type": "stream",
     "text": [
      "['Mahesh', 'Ali', 'Jacob']\n"
     ]
    }
   ],
   "source": [
    "list1=['Ramesh', 'Suresh', 'Mahesh', 'Ali','Jacob']\n",
    "list2=['Ali', 'Mukesh', 'Mahesh', 'Jacob', 'Sai', 'Sarita']\n",
    "list3=list1 + list2\n",
    "list4=[]\n",
    "for x in list3:\n",
    "    if list3.count(x)>1 and x not in list4:\n",
    "      list4.append(x)\n",
    "\n",
    "print(list4)"
   ]
  },
  {
   "cell_type": "code",
   "execution_count": 12,
   "id": "0dc18569",
   "metadata": {},
   "outputs": [
    {
     "name": "stdout",
     "output_type": "stream",
     "text": [
      "Total age: 73\n",
      "[('Ramesh', 25), ('Suresh', 22), ('Mohit', 26)]\n"
     ]
    }
   ],
   "source": [
    "names = \"Ramesh Suresh Mohit\"\n",
    "names_new = names.split()\n",
    "age1=0\n",
    "ages = [25, 22, 26]\n",
    "result = list(zip(names_new, ages))\n",
    "for x in ages:\n",
    "    age1=age1+x\n",
    "print('Total age: '+ str(age1))\n",
    "print(result)"
   ]
  },
  {
   "cell_type": "code",
   "execution_count": 9,
   "id": "b4a8c789",
   "metadata": {},
   "outputs": [
    {
     "name": "stdout",
     "output_type": "stream",
     "text": [
      "Enter Number of Paracetamol_strips: 1\n",
      "Enter Number of Azithromycin_strips: 1\n",
      "Enter Number of Vitamin_C_strips: 1\n",
      "enter the amount given: 1000\n",
      "Total amount for paracetamol: 35, Total amount for Azithromycin: 49, Total amount for Vitamin_C: 33 \n",
      "Total amount: 117\n",
      "Return amount 883\n"
     ]
    }
   ],
   "source": [
    "Paracetamol=35\n",
    "Azithromycin=49\n",
    "Vitamin_C=33\n",
    "Paracetamol_strips=int(input(\"Enter Number of Paracetamol_strips: \"))\n",
    "Azithromycin_strips=int(input(\"Enter Number of Azithromycin_strips: \"))\n",
    "Vitamin_C_strips=int(input(\"Enter Number of Vitamin_C_strips: \"))\n",
    "Received=int(input(\"enter the amount given: \"))\n",
    "p= \"Total amount for paracetamol: {}, Total amount for Azithromycin: {}, Total amount for Vitamin_C: {} \"\n",
    "print(p.format(Paracetamol*Paracetamol_strips, Azithromycin*Azithromycin_strips,Vitamin_C*Vitamin_C_strips))\n",
    "total=((Paracetamol*Paracetamol_strips)+(Azithromycin*Azithromycin_strips)+(Vitamin_C*Vitamin_C_strips))\n",
    "z='Total amount: {}'\n",
    "print(z.format(total))\n",
    "Return_amount=int((Received-total))\n",
    "b=\"Return amount {}\"\n",
    "print(b.format(Return_amount))"
   ]
  },
  {
   "cell_type": "code",
   "execution_count": 4,
   "id": "55aeee4a",
   "metadata": {},
   "outputs": [
    {
     "name": "stdout",
     "output_type": "stream",
     "text": [
      "Enter a sentence: aeiou\n",
      "The number of vowels in the sentence is: 5\n"
     ]
    }
   ],
   "source": [
    "sentence = input(\"Enter a sentence: \")\n",
    "vowels = ['a', 'e', 'i', 'o', 'u']\n",
    "\n",
    "count = len([char for char in sentence.lower() if char in vowels])\n",
    "\n",
    "print(\"The number of vowels in the sentence is:\", count)"
   ]
  },
  {
   "cell_type": "code",
   "execution_count": 5,
   "id": "655b5655",
   "metadata": {},
   "outputs": [
    {
     "name": "stdout",
     "output_type": "stream",
     "text": [
      "Enter your age: 12\n",
      "return afer 6 years\n"
     ]
    }
   ],
   "source": [
    "age=int(input(\"Enter your age: \"))\n",
    "small= 18-age\n",
    "b=\"return afer {} years\"\n",
    "if age>18:\n",
    "  print('Congrats! You are eligible')\n",
    "else:\n",
    "    print(b.format(small))"
   ]
  },
  {
   "cell_type": "code",
   "execution_count": 6,
   "id": "24fdf44f",
   "metadata": {},
   "outputs": [
    {
     "name": "stdout",
     "output_type": "stream",
     "text": [
      "[1, 3, 6, 10, 15]\n"
     ]
    }
   ],
   "source": [
    "a=[1,2,3,4,5]\n",
    "y=[]\n",
    "sum=0\n",
    "for x in a:\n",
    "    sum=sum+x\n",
    "    y.append(sum)\n",
    "     \n",
    "print(y)"
   ]
  },
  {
   "cell_type": "code",
   "execution_count": null,
   "id": "99a946d0",
   "metadata": {},
   "outputs": [],
   "source": []
  }
 ],
 "metadata": {
  "kernelspec": {
   "display_name": "Python 3 (ipykernel)",
   "language": "python",
   "name": "python3"
  },
  "language_info": {
   "codemirror_mode": {
    "name": "ipython",
    "version": 3
   },
   "file_extension": ".py",
   "mimetype": "text/x-python",
   "name": "python",
   "nbconvert_exporter": "python",
   "pygments_lexer": "ipython3",
   "version": "3.10.9"
  }
 },
 "nbformat": 4,
 "nbformat_minor": 5
}
